{
 "cells": [
  {
   "cell_type": "markdown",
   "id": "b9883671",
   "metadata": {},
   "source": [
    "## Basic Import"
   ]
  },
  {
   "cell_type": "code",
   "execution_count": 1,
   "id": "acd351b4",
   "metadata": {},
   "outputs": [],
   "source": [
    "import torch\n",
    "import torchvision\n",
    "import torch.nn as nn\n",
    "import torch.nn.functional as F\n",
    "from torchvision import datasets\n",
    "from torchvision import transforms\n",
    "import torch.optim as optim\n",
    "import torchvision.models as models\n",
    "from tqdm import tqdm\n",
    "\n",
    "from torchcp.regression.loss import QuantileLoss\n",
    "from torchcp.regression.predictors import SplitPredictor, ACI, CQR\n",
    "from torchcp.classification import Metrics\n",
    "from torchcp.utils import fix_randomness\n",
    "\n",
    "from sklearn.preprocessing import StandardScaler\n",
    "from torch.utils.data import TensorDataset\n",
    "\n",
    "import seaborn as sns\n",
    "import matplotlib.pyplot as plt\n",
    "import pandas as pd\n",
    "import numpy as np"
   ]
  },
  {
   "cell_type": "markdown",
   "id": "a668e28c",
   "metadata": {},
   "source": [
    "## Heper-parameters"
   ]
  },
  {
   "cell_type": "code",
   "execution_count": 2,
   "id": "8f0efb9a",
   "metadata": {},
   "outputs": [],
   "source": [
    "epochs = 100\n",
    "alpha = 0.05"
   ]
  },
  {
   "cell_type": "markdown",
   "id": "39e21b22",
   "metadata": {},
   "source": [
    "## Device"
   ]
  },
  {
   "cell_type": "code",
   "execution_count": 3,
   "id": "6ab7bc16",
   "metadata": {},
   "outputs": [],
   "source": [
    "device = torch.device(\"cuda:0\" if torch.cuda.is_available() else \"cpu\")"
   ]
  },
  {
   "cell_type": "markdown",
   "id": "cb0166d2",
   "metadata": {},
   "source": [
    "## Dataset: Communaties-Crime"
   ]
  },
  {
   "cell_type": "code",
   "execution_count": 4,
   "id": "0bcac243",
   "metadata": {},
   "outputs": [],
   "source": [
    "fix_randomness(seed=1)\n",
    "\n",
    "base_path = '../dataset/'\n",
    "attrib = pd.read_csv(base_path + 'attributes.csv', delim_whitespace=True)\n",
    "data = pd.read_csv(base_path + 'communities.data', names=attrib['attributes'])\n",
    "data = data.drop(columns=['state', 'county',\n",
    "                          'community', 'communityname',\n",
    "                          'fold'], axis=1)\n",
    "data = data.replace('?', np.nan)\n",
    "\n",
    "# Impute mean values for samples with missing values\n",
    "data['OtherPerCap'] = data['OtherPerCap'].astype(\"float\")\n",
    "mean_value = data['OtherPerCap'].mean()\n",
    "data['OtherPerCap'].fillna(value=mean_value, inplace=True)\n",
    "data = data.dropna(axis=1)\n",
    "X = data.iloc[:, 0:100].values\n",
    "y = data.iloc[:, 100].values\n",
    "X = X.astype(np.float32)\n",
    "y = y.astype(np.float32)\n",
    "\n",
    "indices = np.arange(X.shape[0])\n",
    "np.random.shuffle(indices)\n",
    "split_index1 = int(len(indices) * 0.4)\n",
    "split_index2 = int(len(indices) * 0.6)\n",
    "part1, part2, part3 = np.split(indices, [split_index1, split_index2])\n",
    "scalerX = StandardScaler()\n",
    "scalerX = scalerX.fit(X[part1, :])\n",
    "train_dataset = TensorDataset(torch.from_numpy(scalerX.transform(X[part1, :])), torch.from_numpy(y[part1]))\n",
    "cal_dataset = TensorDataset(torch.from_numpy(scalerX.transform(X[part2, :])), torch.from_numpy(y[part2]))\n",
    "test_dataset = TensorDataset(torch.from_numpy(scalerX.transform(X[part3, :])), torch.from_numpy(y[part3]))\n",
    "\n",
    "train_data_loader = torch.utils.data.DataLoader(train_dataset, batch_size=100, shuffle=True, num_workers=2)\n",
    "cal_data_loader = torch.utils.data.DataLoader(cal_dataset, batch_size=100, shuffle=False, num_workers=2)\n",
    "test_data_loader = torch.utils.data.DataLoader(test_dataset, batch_size=100, shuffle=False, num_workers=2)"
   ]
  },
  {
   "cell_type": "markdown",
   "id": "c5d80a6f",
   "metadata": {},
   "source": [
    "## Model: NonLinearNet"
   ]
  },
  {
   "cell_type": "code",
   "execution_count": 5,
   "id": "6f7c3530",
   "metadata": {},
   "outputs": [],
   "source": [
    "class NonLinearNet(nn.Module):\n",
    "            def __init__(self, in_shape, out_shape, hidden_size, dropout):\n",
    "                super(NonLinearNet, self).__init__()\n",
    "                self.hidden_size = hidden_size\n",
    "                self.in_shape = in_shape\n",
    "                self.out_shape = out_shape\n",
    "                self.dropout = dropout\n",
    "                self.base_model = nn.Sequential(\n",
    "                    nn.Linear(self.in_shape, self.hidden_size),\n",
    "                    nn.ReLU(),\n",
    "                    nn.Dropout(self.dropout),\n",
    "                    nn.Linear(self.hidden_size, self.hidden_size),\n",
    "                    nn.ReLU(),\n",
    "                    nn.Dropout(self.dropout),\n",
    "                    nn.Linear(self.hidden_size, self.out_shape),\n",
    "                )\n",
    "\n",
    "            def forward(self, x):\n",
    "                return self.base_model(x)"
   ]
  },
  {
   "cell_type": "markdown",
   "id": "762fd94e",
   "metadata": {},
   "source": [
    "## Train & Comformal Prediction"
   ]
  },
  {
   "cell_type": "code",
   "execution_count": 6,
   "id": "f38d8473",
   "metadata": {},
   "outputs": [],
   "source": [
    "def train(model, device, epoch, train_data_loader, criterion, optimizer):\n",
    "    for index, (tmp_x, tmp_y) in enumerate(train_data_loader):\n",
    "        outputs = model(tmp_x.to(device))\n",
    "        loss = criterion(outputs, tmp_y.unsqueeze(dim=1).to(device))\n",
    "        optimizer.zero_grad()\n",
    "        loss.backward()\n",
    "        optimizer.step()\n",
    "\n",
    "def c_prediction(model, predictor):\n",
    "    model.eval()\n",
    "\n",
    "    predictor = predictor(model)\n",
    "    predictor.calibrate(cal_data_loader, alpha)              \n",
    "    result = predictor.evaluate(test_data_loader)\n",
    "    print(f\"Result--Coverage_rate: {result['Coverage_rate']}, Average_size: {result['Average_size']}\")\n",
    "    return result['Coverage_rate'],result['Average_size']"
   ]
  },
  {
   "cell_type": "markdown",
   "id": "05faf561",
   "metadata": {},
   "source": [
    "## Experiment"
   ]
  },
  {
   "cell_type": "code",
   "execution_count": 7,
   "id": "a09f31bd",
   "metadata": {},
   "outputs": [],
   "source": [
    "quantiles = [alpha / 2, 1 - alpha / 2]\n",
    "predictors = [SplitPredictor, CQR]\n",
    "criterions = [nn.MSELoss(), QuantileLoss(quantiles)]\n",
    "models = [NonLinearNet(X.shape[1], 1, 64, 0.5).to(device), NonLinearNet(X.shape[1], 2, 64, 0.5).to(device)]\n",
    "setting = ['SP','CQR']\n",
    "Coverage_rates = []\n",
    "Average_sizes = []"
   ]
  },
  {
   "cell_type": "markdown",
   "id": "ba66823b",
   "metadata": {},
   "source": [
    "## Conformal Prediction"
   ]
  },
  {
   "cell_type": "code",
   "execution_count": 8,
   "id": "16526600",
   "metadata": {},
   "outputs": [
    {
     "name": "stdout",
     "output_type": "stream",
     "text": [
      "Result--Coverage_rate: 0.9411027431488037, Average_size: 0.7211230397224426\n",
      "Result--Coverage_rate: 0.9348371028900146, Average_size: 0.5303559899330139\n"
     ]
    }
   ],
   "source": [
    "for predictor, criterion, model in zip(predictors, criterions, models):\n",
    "    optimizer = torch.optim.Adam(model.parameters(), lr=0.01)\n",
    "    for epoch in range(epochs):\n",
    "        train(model, device, epoch, train_data_loader, criterion, optimizer)\n",
    "\n",
    "    Coverage_rate, Average_size = c_prediction(model, predictor)\n",
    "    Coverage_rates.append(Coverage_rate)\n",
    "    Average_sizes.append(Average_size)"
   ]
  },
  {
   "cell_type": "markdown",
   "id": "a033a087",
   "metadata": {},
   "source": [
    "## Visualization"
   ]
  },
  {
   "cell_type": "code",
   "execution_count": 11,
   "id": "21e510a8",
   "metadata": {},
   "outputs": [
    {
     "data": {
      "image/png": "[encoded data removed]",
      "text/plain": [
       "<Figure size 1000x600 with 2 Axes>"
      ]
     },
     "metadata": {},
     "output_type": "display_data"
    }
   ],
   "source": [
    "sns.set_theme()\n",
    "sns.set(style=\"whitegrid\", palette=\"deep\")\n",
    "\n",
    "plt.figure(figsize=(10, 6))\n",
    "\n",
    "plt.subplot(1, 2, 1)\n",
    "sns.barplot(x=setting, y=Coverage_rates,  color='skyblue', label='Coverage_rate')\n",
    "\n",
    "plt.xlabel('Methods')\n",
    "plt.ylabel('Coverage_rate')\n",
    "plt.title('Comm: Comparison of Coverage_rate for Diff Methods')\n",
    "# plt.xticks(rotation=45, ha='right')\n",
    "plt.ylim(0.9,1)\n",
    "plt.legend()\n",
    "\n",
    "plt.subplot(1, 2, 2)\n",
    "sns.barplot(x=setting, y=Average_sizes,  color='orange', label='Average_size')\n",
    "#sns.barplot(x='Model', y='Top-3 Accuracy', data=df, color='orange', label='Top-3 Accuracy')\n",
    "\n",
    "plt.xlabel('Methods')\n",
    "plt.ylabel('Average_size')\n",
    "plt.title('Comm: Comparison of Average_size for Diff Methods')\n",
    "# plt.xticks(rotation=45, ha='right')\n",
    "plt.ylim()\n",
    "plt.legend()\n",
    "\n",
    "plt.tight_layout()\n",
    "plt.show()"
   ]
  }
 ],
 "metadata": {
  "kernelspec": {
   "display_name": "Python 3 (ipykernel)",
   "language": "python",
   "name": "python3"
  },
  "language_info": {
   "codemirror_mode": {
    "name": "ipython",
    "version": 3
   },
   "file_extension": ".py",
   "mimetype": "text/x-python",
   "name": "python",
   "nbconvert_exporter": "python",
   "pygments_lexer": "ipython3",
   "version": "3.10.12"
  }
 },
 "nbformat": 4,
 "nbformat_minor": 5
}
